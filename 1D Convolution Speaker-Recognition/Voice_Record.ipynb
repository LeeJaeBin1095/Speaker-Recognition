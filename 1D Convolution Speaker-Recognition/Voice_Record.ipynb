{
 "cells": [
  {
   "cell_type": "code",
   "execution_count": null,
   "id": "2d955d9e",
   "metadata": {},
   "outputs": [],
   "source": [
    "def Voice_Record() :\n",
    "\n",
    "    ######## 음성 데이터를 녹음 해 저장하는 부분 ########\n",
    "\n",
    "    FORMAT = pyaudio.paInt16\n",
    "    CHANNELS = 1\n",
    "    RATE = 44100\n",
    "    CHUNK = 1024\n",
    "    RECORD_SECONDS = 5\n",
    "\n",
    "    WAVE_OUTPUT_FILENAME = \"./User_Data/\" + UserNum_forFeature + \"/\"\n",
    "    FILE_NAME = UserNum_forFeature + \"_\"\n",
    "\n",
    "    files = os.listdir(WAVE_OUTPUT_FILENAME)\n",
    "    wave_count = 1;\n",
    "     \n",
    "    for wav in files : \n",
    "        if not wav.endswith(\".wav\") : continue\n",
    "        else: wave_count = wave_count + 1\n",
    "\n",
    "    WAVE_OUTPUT_FILENAME = WAVE_OUTPUT_FILENAME + FILE_NAME + str(wave_count) + \".wav\"\n",
    "    print(str(wave_count) + \"개의 .wav존재!\",WAVE_OUTPUT_FILENAME)\n",
    "    p = pyaudio.PyAudio() # 오디오 객체 생성\n",
    "\n",
    "    stream = p.open(format = FORMAT, # 16비트 포맷\n",
    "                channels = CHANNELS,\n",
    "                rate = RATE, \n",
    "                input = True,\n",
    "                frames_per_buffer = CHUNK)\n",
    "\n",
    "    print(\"Start to record the audio.\")\n",
    "\n",
    "    frames = []\n",
    "\n",
    "    for i in range(0, int(RATE / CHUNK * RECORD_SECONDS)): \n",
    "        data = stream.read(CHUNK)\n",
    "        frames.append(data)\n",
    "        \n",
    "    print(\"Recording is finished.\")\n",
    "\n",
    "    stream.stop_stream() # 스트림닫기\n",
    "    stream.close() # 스트림 종료\n",
    "    p.terminate() # 오디오객체 종료\n",
    "\n",
    "    wf = wave.open( WAVE_OUTPUT_FILENAME, 'wb') \n",
    "    # WAVE_OUTPUT_FILENAME의 파일을 열고 데이터를 쓴다.\n",
    "\n",
    "    wf.setnchannels(CHANNELS)\n",
    "    wf.setsampwidth(p.get_sample_size(FORMAT))\n",
    "    wf.setframerate(RATE)\n",
    "    wf.writeframes(b''.join(frames))\n",
    "    wf.close()"
   ]
  }
 ],
 "metadata": {
  "kernelspec": {
   "display_name": "Python 3",
   "language": "python",
   "name": "python3"
  },
  "language_info": {
   "codemirror_mode": {
    "name": "ipython",
    "version": 3
   },
   "file_extension": ".py",
   "mimetype": "text/x-python",
   "name": "python",
   "nbconvert_exporter": "python",
   "pygments_lexer": "ipython3",
   "version": "3.7.0"
  }
 },
 "nbformat": 4,
 "nbformat_minor": 5
}
